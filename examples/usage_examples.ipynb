{
 "cells": [
  {
   "cell_type": "code",
   "execution_count": 1,
   "metadata": {},
   "outputs": [],
   "source": [
    "from omnia_ae_api.api import Environment, API"
   ]
  },
  {
   "cell_type": "code",
   "execution_count": 2,
   "metadata": {},
   "outputs": [],
   "source": [
    "from azure.identity import ClientSecretCredential\n",
    "import os\n",
    "credential = ClientSecretCredential(\n",
    "    tenant_id=os.environ['AZURE_TENANT_ID'],\n",
    "    client_id=os.environ['AZURE_CLIENT_ID'],\n",
    "    client_secret=os.environ['AZURE_CLIENT_SECRET']\n",
    ")"
   ]
  },
  {
   "cell_type": "code",
   "execution_count": 3,
   "metadata": {},
   "outputs": [],
   "source": [
    "api = API(azure_credential=credential, environment=Environment.Dev())"
   ]
  },
  {
   "cell_type": "code",
   "execution_count": 4,
   "metadata": {},
   "outputs": [
    {
     "data": {
      "text/plain": [
       "{'items': [{'facility': 'AHA'},\n",
       "  {'facility': 'ASGA'},\n",
       "  {'facility': 'ASGB'},\n",
       "  {'facility': 'GFA'},\n",
       "  {'facility': 'GFB'},\n",
       "  {'facility': 'GFC'},\n",
       "  {'facility': 'GKR'},\n",
       "  {'facility': 'GRA'},\n",
       "  {'facility': 'HD'},\n",
       "  {'facility': 'JCA'},\n",
       "  {'facility': 'JSV'},\n",
       "  {'facility': 'KRIS'},\n",
       "  {'facility': 'KVB'},\n",
       "  {'facility': 'MAF'},\n",
       "  {'facility': 'MAR'},\n",
       "  {'facility': 'MLA'},\n",
       "  {'facility': 'NJA'},\n",
       "  {'facility': 'NOR'},\n",
       "  {'facility': 'OSC'},\n",
       "  {'facility': 'OSE'},\n",
       "  {'facility': 'OSF'},\n",
       "  {'facility': 'OSS'},\n",
       "  {'facility': 'TROA'},\n",
       "  {'facility': 'TROC'},\n",
       "  {'facility': 'VAL'},\n",
       "  {'facility': 'VIS'}]}"
      ]
     },
     "execution_count": 4,
     "metadata": {},
     "output_type": "execute_result"
    }
   ],
   "source": [
    "api.get_sources()"
   ]
  },
  {
   "cell_type": "code",
   "execution_count": 5,
   "metadata": {},
   "outputs": [
    {
     "data": {
      "text/plain": [
       "{'items': [{'timestamp': '2024-10-23T12:04:05.2130000Z',\n",
       "   'sourceName': '77GB005B-U002',\n",
       "   'description': 'I drift',\n",
       "   'eventType': 'Simple',\n",
       "   'eventCategory': '3439269159',\n",
       "   'message': 'Unormal tilstand',\n",
       "   'severity': 304,\n",
       "   'priority': None,\n",
       "   'condition': None,\n",
       "   'alarmState': None,\n",
       "   'ackedState': None,\n",
       "   'activeState': None,\n",
       "   'suppressedOrShelved': None,\n",
       "   'node': 'A',\n",
       "   'processArea': 'PCS',\n",
       "   'actiontime': '2024-10-23T12:04:05.2130000Z'}],\n",
       " 'continuationToken': 'eyJPZmZzZXQiOjF9'}"
      ]
     },
     "execution_count": 5,
     "metadata": {},
     "output_type": "execute_result"
    }
   ],
   "source": [
    "api.get_events(\"AHA\", \"*\", 1, includeOtherFields=False)"
   ]
  },
  {
   "cell_type": "code",
   "execution_count": 6,
   "metadata": {},
   "outputs": [
    {
     "data": {
      "text/plain": [
       "{'data': {'items': [{'facility': 'AHA'}]}}"
      ]
     },
     "execution_count": 6,
     "metadata": {},
     "output_type": "execute_result"
    }
   ],
   "source": [
    "api.get_realtime_subscriptions()"
   ]
  },
  {
   "cell_type": "code",
   "execution_count": null,
   "metadata": {},
   "outputs": [],
   "source": [
    "api.set_realtime_subscription(connectionString=\"test\"\n",
    ")\n",
    "#statusCode: 200, with real connection string"
   ]
  },
  {
   "cell_type": "code",
   "execution_count": null,
   "metadata": {},
   "outputs": [],
   "source": [
    "api.create_subscription(facility=\"NOR\")"
   ]
  },
  {
   "cell_type": "code",
   "execution_count": null,
   "metadata": {},
   "outputs": [],
   "source": [
    "api.delete_subscription(facility=\"NOR\")"
   ]
  }
 ],
 "metadata": {
  "kernelspec": {
   "display_name": "Python 3",
   "language": "python",
   "name": "python3"
  },
  "language_info": {
   "codemirror_mode": {
    "name": "ipython",
    "version": 3
   },
   "file_extension": ".py",
   "mimetype": "text/x-python",
   "name": "python",
   "nbconvert_exporter": "python",
   "pygments_lexer": "ipython3",
   "version": "3.13.1"
  },
  "orig_nbformat": 4
 },
 "nbformat": 4,
 "nbformat_minor": 2
}
