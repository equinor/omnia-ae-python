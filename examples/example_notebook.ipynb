{
 "cells": [
  {
   "cell_type": "code",
   "execution_count": 10,
   "metadata": {},
   "outputs": [
    {
     "ename": "ModuleNotFoundError",
     "evalue": "No module named 'omnia_ae'",
     "output_type": "error",
     "traceback": [
      "\u001b[1;31m---------------------------------------------------------------------------\u001b[0m",
      "\u001b[1;31mModuleNotFoundError\u001b[0m                       Traceback (most recent call last)",
      "\u001b[1;32mc:\\Users\\tlw\\source\\omnia-ae-python\\examples\\example_notebook.ipynb Cell 1\u001b[0m line \u001b[0;36m1\n\u001b[1;32m----> <a href='vscode-notebook-cell:/c%3A/Users/tlw/source/omnia-ae-python/examples/example_notebook.ipynb#X23sZmlsZQ%3D%3D?line=0'>1</a>\u001b[0m \u001b[39mimport\u001b[39;00m \u001b[39momnia_ae\u001b[39;00m\u001b[39m.\u001b[39;00m\u001b[39mhttp_client\u001b[39;00m\n",
      "\u001b[1;31mModuleNotFoundError\u001b[0m: No module named 'omnia_ae'"
     ]
    }
   ],
   "source": [
    "import omnia_ae.http_client"
   ]
  },
  {
   "cell_type": "code",
   "execution_count": 14,
   "metadata": {},
   "outputs": [
    {
     "ename": "NameError",
     "evalue": "name '__file__' is not defined",
     "output_type": "error",
     "traceback": [
      "\u001b[1;31m---------------------------------------------------------------------------\u001b[0m",
      "\u001b[1;31mNameError\u001b[0m                                 Traceback (most recent call last)",
      "\u001b[1;32mc:\\Users\\tlw\\source\\omnia-ae-python\\examples\\example_notebook.ipynb Cell 2\u001b[0m line \u001b[0;36m3\n\u001b[0;32m      <a href='vscode-notebook-cell:/c%3A/Users/tlw/source/omnia-ae-python/examples/example_notebook.ipynb#X25sZmlsZQ%3D%3D?line=0'>1</a>\u001b[0m \u001b[39mimport\u001b[39;00m \u001b[39mos\u001b[39;00m\u001b[39m.\u001b[39;00m\u001b[39mpath\u001b[39;00m\n\u001b[0;32m      <a href='vscode-notebook-cell:/c%3A/Users/tlw/source/omnia-ae-python/examples/example_notebook.ipynb#X25sZmlsZQ%3D%3D?line=1'>2</a>\u001b[0m \u001b[39mimport\u001b[39;00m \u001b[39msys\u001b[39;00m\n\u001b[1;32m----> <a href='vscode-notebook-cell:/c%3A/Users/tlw/source/omnia-ae-python/examples/example_notebook.ipynb#X25sZmlsZQ%3D%3D?line=2'>3</a>\u001b[0m sys\u001b[39m.\u001b[39mpath\u001b[39m.\u001b[39mappend(os\u001b[39m.\u001b[39mpath\u001b[39m.\u001b[39mjoin(os\u001b[39m.\u001b[39mpath\u001b[39m.\u001b[39mdirname(\u001b[39m__file__\u001b[39;49m), \u001b[39m'\u001b[39m\u001b[39m..\u001b[39m\u001b[39m'\u001b[39m))\n",
      "\u001b[1;31mNameError\u001b[0m: name '__file__' is not defined"
     ]
    }
   ],
   "source": [
    "import os.path\n",
    "import sys\n",
    "sys.path.append(os.path.join(os.path.dirname(__file__), '..'))"
   ]
  },
  {
   "cell_type": "code",
   "execution_count": 11,
   "metadata": {},
   "outputs": [],
   "source": [
    "\n",
    "#from omnia_ae.http_client import HttpClient, ContentType, RequestType\n",
    "#from omnia_ae.models import (\n",
    "#    SourceModel\n",
    "#)\n",
    "#from omnia_ae.api import AEAPI, AEEnvironment\n",
    "from typing import List, Literal, Optional\n",
    "from azure.identity._internal.msal_credentials import MsalCredential"
   ]
  },
  {
   "cell_type": "code",
   "execution_count": 13,
   "metadata": {},
   "outputs": [
    {
     "ename": "ImportError",
     "evalue": "attempted relative import with no known parent package",
     "output_type": "error",
     "traceback": [
      "\u001b[1;31m---------------------------------------------------------------------------\u001b[0m",
      "\u001b[1;31mImportError\u001b[0m                               Traceback (most recent call last)",
      "\u001b[1;32mc:\\Users\\tlw\\source\\omnia-ae-python\\examples\\example_notebook.ipynb Cell 3\u001b[0m line \u001b[0;36m1\n\u001b[1;32m----> <a href='vscode-notebook-cell:/c%3A/Users/tlw/source/omnia-ae-python/examples/example_notebook.ipynb#X24sZmlsZQ%3D%3D?line=0'>1</a>\u001b[0m \u001b[39mfrom\u001b[39;00m \u001b[39m.\u001b[39;00m\u001b[39momnia_ae\u001b[39;00m\u001b[39m.\u001b[39;00m\u001b[39mapi\u001b[39;00m \u001b[39mimport\u001b[39;00m AEAPI, AEEnvironment\n",
      "\u001b[1;31mImportError\u001b[0m: attempted relative import with no known parent package"
     ]
    }
   ],
   "source": [
    "from .omnia_ae.api import AEAPI, AEEnvironment"
   ]
  },
  {
   "cell_type": "code",
   "execution_count": 2,
   "metadata": {},
   "outputs": [],
   "source": [
    "from typing import Literal, Optional, TypedDict, Union, Dict, Any\n",
    "from azure.identity._internal.msal_credentials import MsalCredential\n",
    "import requests\n",
    "import logging\n",
    "\n",
    "#from omnia_timeseries.helpers import retry\n",
    "#from omnia_timeseries.models import TimeseriesRequestFailedException\n",
    "from importlib import metadata\n",
    "from opentelemetry.instrumentation.requests import RequestsInstrumentor\n",
    "import platform"
   ]
  },
  {
   "cell_type": "code",
   "execution_count": 3,
   "metadata": {},
   "outputs": [],
   "source": [
    "from azure.identity import ClientSecretCredential\n",
    "import os\n",
    "credential = ClientSecretCredential(\n",
    "    tenant_id=os.environ['AZURE_TENANT_ID'],\n",
    "    client_id=os.environ['AZURE_CLIENT_ID_NON_PRODUCTION'],\n",
    "    client_secret=os.environ['AZURE_CLIENT_SECRET_NON_PRODUCTION']\n",
    ")"
   ]
  },
  {
   "cell_type": "code",
   "execution_count": 4,
   "metadata": {},
   "outputs": [],
   "source": [
    "base_url = \"https://api-dev.gateway.equinor.com/iiot/ae/v1\""
   ]
  },
  {
   "cell_type": "code",
   "execution_count": 5,
   "metadata": {},
   "outputs": [],
   "source": [
    "ContentType = Literal[\"application/json\",\n",
    "                      \"application/protobuf\", \"application/x-google-protobuf\"]\n",
    "\n",
    "RequestType = Literal['get']\n",
    "def _request(\n",
    "    request_type: RequestType,\n",
    "    url: str,\n",
    "    headers: Dict[str, Any],\n",
    "    payload: Optional[Union[TypedDict, dict, list]] = None,\n",
    "    params: Optional[Dict[str, Any]] = None\n",
    ") -> Union[Dict[str, Any], bytes]:\n",
    "\n",
    "    response = requests.request(\n",
    "        request_type, url, headers=headers, json=payload, params=params)\n",
    "    #if not response.ok:\n",
    "    #    raise TimeseriesRequestFailedException(response)\n",
    "    if not \"Accept\" in headers or headers[\"Accept\"] == \"application/json\":\n",
    "        return response.json()\n",
    "    else:\n",
    "        return response.content\n",
    "\n",
    "class HttpClient:\n",
    "    def __init__(self, azure_credential: MsalCredential, resource_id: str):\n",
    "        self._azure_credential = azure_credential\n",
    "        self._resource_id = resource_id\n",
    "\n",
    "    def request(\n",
    "        self,\n",
    "        request_type: RequestType,\n",
    "        url: str,\n",
    "        accept: ContentType = \"application/json\",\n",
    "        payload: Optional[Union[TypedDict, dict, list]] = None,\n",
    "        params: Optional[Dict[str, Any]] = None\n",
    "    ) -> Any:\n",
    "\n",
    "        access_token = self._azure_credential.get_token(\n",
    "            f'{self._resource_id}/.default')  # handles caching and refreshing internally\n",
    "        headers = {\n",
    "            'Authorization': f'Bearer {access_token.token}',\n",
    "            'Content-Type': 'application/json',\n",
    "            'Accept': accept,\n",
    "            ##'User-Agent': f'Omnia AE SDK/{version} {system_version_string}'\n",
    "        }\n",
    "        return _request(request_type=request_type, url=url, headers=headers, payload=payload, params=params)\n"
   ]
  },
  {
   "cell_type": "code",
   "execution_count": 6,
   "metadata": {},
   "outputs": [],
   "source": [
    "#resource_id=\"32f2a909-8a98-4eb8-b22d-1208d9350cb0\"\n",
    "resource_id=\"657b2767-ee47-47ff-b745-af501ea053cb\""
   ]
  },
  {
   "cell_type": "code",
   "execution_count": 7,
   "metadata": {},
   "outputs": [
    {
     "name": "stdout",
     "output_type": "stream",
     "text": [
      "https://api-dev.gateway.equinor.com/iiot/ae/v1\n"
     ]
    }
   ],
   "source": [
    "print(base_url)"
   ]
  },
  {
   "cell_type": "code",
   "execution_count": 8,
   "metadata": {},
   "outputs": [],
   "source": [
    "system_version_string = f'({platform.system()}; Python {platform.version()})' if platform.system(\n",
    ") else f'(Python {platform.version()})'"
   ]
  },
  {
   "cell_type": "code",
   "execution_count": 9,
   "metadata": {},
   "outputs": [],
   "source": [
    "access_token = credential.get_token(\n",
    "    f'{resource_id}/.default')  # handles caching and refreshing internally\n",
    "headers = {\n",
    "    'Authorization': f'Bearer {access_token.token}',\n",
    "    'Content-Type': 'application/json',\n",
    "    'Accept': 'application/json',\n",
    "    'User-Agent': f'Omnia AE SDK/{1.0} {system_version_string}'\n",
    "        }"
   ]
  },
  {
   "cell_type": "code",
   "execution_count": 15,
   "metadata": {},
   "outputs": [],
   "source": [
    "#access_token.token"
   ]
  },
  {
   "cell_type": "code",
   "execution_count": 11,
   "metadata": {},
   "outputs": [
    {
     "data": {
      "text/plain": [
       "{'items': [{'facility': 'AHA'},\n",
       "  {'facility': 'ASGA'},\n",
       "  {'facility': 'ASGB'},\n",
       "  {'facility': 'GFA'},\n",
       "  {'facility': 'GFB'},\n",
       "  {'facility': 'GFC'},\n",
       "  {'facility': 'GKR'},\n",
       "  {'facility': 'HD'},\n",
       "  {'facility': 'JSV'},\n",
       "  {'facility': 'KRIS'},\n",
       "  {'facility': 'MARA'},\n",
       "  {'facility': 'MARB'},\n",
       "  {'facility': 'MLA'},\n",
       "  {'facility': 'NOR'},\n",
       "  {'facility': 'OSF'},\n",
       "  {'facility': 'TROA'},\n",
       "  {'facility': 'VIS'}]}"
      ]
     },
     "execution_count": 11,
     "metadata": {},
     "output_type": "execute_result"
    }
   ],
   "source": [
    "_request(request_type='get', url=base_url+'/sources', headers=headers, payload=None, params=None)"
   ]
  },
  {
   "cell_type": "code",
   "execution_count": 26,
   "metadata": {},
   "outputs": [],
   "source": [
    "_http_client = HttpClient(\n",
    "            azure_credential=credential, resource_id=resource_id)"
   ]
  },
  {
   "cell_type": "code",
   "execution_count": 57,
   "metadata": {},
   "outputs": [
    {
     "data": {
      "text/plain": [
       "{'statusCode': 401,\n",
       " 'message': 'Unauthorized. Access token is missing or invalid.'}"
      ]
     },
     "execution_count": 57,
     "metadata": {},
     "output_type": "execute_result"
    }
   ],
   "source": [
    "_http_client.request(request_type='get', url=base_url+'/sources', accept='application/json', payload=None, params=None)#, headers=headers)"
   ]
  },
  {
   "cell_type": "code",
   "execution_count": null,
   "metadata": {},
   "outputs": [],
   "source": []
  },
  {
   "cell_type": "code",
   "execution_count": 2,
   "metadata": {},
   "outputs": [
    {
     "ename": "NameError",
     "evalue": "name 'AEAPI' is not defined",
     "output_type": "error",
     "traceback": [
      "\u001b[1;31m---------------------------------------------------------------------------\u001b[0m",
      "\u001b[1;31mNameError\u001b[0m                                 Traceback (most recent call last)",
      "\u001b[1;32mc:\\Users\\tlw\\source\\omnia-ae-python\\examples\\example_notebook.ipynb Cell 15\u001b[0m line \u001b[0;36m1\n\u001b[1;32m----> <a href='vscode-notebook-cell:/c%3A/Users/tlw/source/omnia-ae-python/examples/example_notebook.ipynb#X15sZmlsZQ%3D%3D?line=0'>1</a>\u001b[0m api \u001b[39m=\u001b[39m AEAPI(azure_credential\u001b[39m=\u001b[39mcredential, environment\u001b[39m=\u001b[39mAEEnvironment\u001b[39m.\u001b[39mDev())\n",
      "\u001b[1;31mNameError\u001b[0m: name 'AEAPI' is not defined"
     ]
    }
   ],
   "source": [
    "api = AEAPI(azure_credential=credential, environment=AEEnvironment.Dev())"
   ]
  }
 ],
 "metadata": {
  "kernelspec": {
   "display_name": "Python 3",
   "language": "python",
   "name": "python3"
  },
  "language_info": {
   "codemirror_mode": {
    "name": "ipython",
    "version": 3
   },
   "file_extension": ".py",
   "mimetype": "text/x-python",
   "name": "python",
   "nbconvert_exporter": "python",
   "pygments_lexer": "ipython3",
   "version": "3.10.11"
  },
  "orig_nbformat": 4
 },
 "nbformat": 4,
 "nbformat_minor": 2
}
