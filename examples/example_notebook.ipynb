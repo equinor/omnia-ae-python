{
 "cells": [
  {
   "cell_type": "code",
   "execution_count": 1,
   "metadata": {},
   "outputs": [],
   "source": [
    "from omnia_ae.api import AEEnvironment, AEAPI"
   ]
  },
  {
   "cell_type": "code",
   "execution_count": 2,
   "metadata": {},
   "outputs": [],
   "source": [
    "from azure.identity import ClientSecretCredential\n",
    "import os\n",
    "credential = ClientSecretCredential(\n",
    "    tenant_id=os.environ['AZURE_TENANT_ID'],\n",
    "    client_id=os.environ['AZURE_CLIENT_ID_NON_PRODUCTION'],\n",
    "    client_secret=os.environ['AZURE_CLIENT_SECRET_NON_PRODUCTION']\n",
    ")"
   ]
  },
  {
   "cell_type": "code",
   "execution_count": 3,
   "metadata": {},
   "outputs": [],
   "source": [
    "api = AEAPI(azure_credential=credential, environment=AEEnvironment.Dev())"
   ]
  },
  {
   "cell_type": "code",
   "execution_count": 4,
   "metadata": {},
   "outputs": [
    {
     "data": {
      "text/plain": [
       "{'items': [{'facility': 'AHA'},\n",
       "  {'facility': 'ASGA'},\n",
       "  {'facility': 'ASGB'},\n",
       "  {'facility': 'GFA'},\n",
       "  {'facility': 'GFB'},\n",
       "  {'facility': 'GFC'},\n",
       "  {'facility': 'GKR'},\n",
       "  {'facility': 'HD'},\n",
       "  {'facility': 'JSV'},\n",
       "  {'facility': 'KRIS'},\n",
       "  {'facility': 'MARA'},\n",
       "  {'facility': 'MARB'},\n",
       "  {'facility': 'MLA'},\n",
       "  {'facility': 'NOR'},\n",
       "  {'facility': 'OSF'},\n",
       "  {'facility': 'TROA'},\n",
       "  {'facility': 'VIS'}]}"
      ]
     },
     "execution_count": 4,
     "metadata": {},
     "output_type": "execute_result"
    }
   ],
   "source": [
    "api.get_sources()"
   ]
  },
  {
   "cell_type": "code",
   "execution_count": 12,
   "metadata": {},
   "outputs": [
    {
     "data": {
      "text/plain": [
       "{'items': [{'timestamp': '2016-02-23T05:06:55.4670000Z',\n",
       "   'sourceName': '71UI2601',\n",
       "   'description': 'DV lower deck south released',\n",
       "   'eventType': 'Simple',\n",
       "   'eventCategory': '3439269159',\n",
       "   'message': 'Normal state',\n",
       "   'severity': 302,\n",
       "   'priority': None,\n",
       "   'condition': None,\n",
       "   'alarmState': None,\n",
       "   'ackedState': None,\n",
       "   'activeState': None,\n",
       "   'suppressedOrShelved': None,\n",
       "   'node': 'A',\n",
       "   'processArea': 'FG',\n",
       "   'actiontime': '2016-02-23T05:06:55.4670000Z'}],\n",
       " 'continuationToken': 'eyJPZmZzZXQiOjF9'}"
      ]
     },
     "execution_count": 12,
     "metadata": {},
     "output_type": "execute_result"
    }
   ],
   "source": [
    "api.get_events(\"AHA\", \"*\", 1, includeOtherFields=False)"
   ]
  },
  {
   "cell_type": "code",
   "execution_count": 11,
   "metadata": {},
   "outputs": [
    {
     "data": {
      "text/plain": [
       "{'data': {'items': [{'facility': 'AHA'}, {'facility': 'NOR'}]}}"
      ]
     },
     "execution_count": 11,
     "metadata": {},
     "output_type": "execute_result"
    }
   ],
   "source": [
    "api.get_realtime_subscriptions()"
   ]
  },
  {
   "cell_type": "code",
   "execution_count": 7,
   "metadata": {},
   "outputs": [
    {
     "data": {
      "text/plain": [
       "{'statusCode': 500,\n",
       " 'message': 'Connection string is invalid',\n",
       " 'traceId': '0HMV52IUBNO12:00000088'}"
      ]
     },
     "execution_count": 7,
     "metadata": {},
     "output_type": "execute_result"
    }
   ],
   "source": [
    "api.set_realtime_subscription(connectionString=\"test\"\n",
    ")\n",
    "#statusCode: 200, with real connection string"
   ]
  },
  {
   "cell_type": "code",
   "execution_count": 10,
   "metadata": {},
   "outputs": [
    {
     "data": {
      "text/plain": [
       "{'statusCode': 200, 'message': 'Created subscription NOR'}"
      ]
     },
     "execution_count": 10,
     "metadata": {},
     "output_type": "execute_result"
    }
   ],
   "source": [
    "api.create_subscription(facility=\"NOR\")"
   ]
  },
  {
   "cell_type": "code",
   "execution_count": 9,
   "metadata": {},
   "outputs": [
    {
     "data": {
      "text/plain": [
       "{'statusCode': 200, 'message': 'Deleted subscription NOR'}"
      ]
     },
     "execution_count": 9,
     "metadata": {},
     "output_type": "execute_result"
    }
   ],
   "source": [
    "api.delete_subscription(facility=\"NOR\")"
   ]
  },
  {
   "cell_type": "code",
   "execution_count": null,
   "metadata": {},
   "outputs": [],
   "source": []
  }
 ],
 "metadata": {
  "kernelspec": {
   "display_name": "Python 3",
   "language": "python",
   "name": "python3"
  },
  "language_info": {
   "codemirror_mode": {
    "name": "ipython",
    "version": 3
   },
   "file_extension": ".py",
   "mimetype": "text/x-python",
   "name": "python",
   "nbconvert_exporter": "python",
   "pygments_lexer": "ipython3",
   "version": "3.10.11"
  },
  "orig_nbformat": 4
 },
 "nbformat": 4,
 "nbformat_minor": 2
}
