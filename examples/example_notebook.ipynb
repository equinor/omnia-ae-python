{
 "cells": [
  {
   "cell_type": "code",
   "execution_count": 1,
   "metadata": {},
   "outputs": [],
   "source": [
    "\n",
    "#from omnia_ae.http_client import HttpClient, ContentType, RequestType\n",
    "#from omnia_ae.models import (\n",
    "#    SourceModel\n",
    "#)\n",
    "from typing import List, Literal, Optional\n",
    "from azure.identity._internal.msal_credentials import MsalCredential"
   ]
  },
  {
   "cell_type": "code",
   "execution_count": 2,
   "metadata": {},
   "outputs": [],
   "source": [
    "from typing import Literal, Optional, TypedDict, Union, Dict, Any\n",
    "from azure.identity._internal.msal_credentials import MsalCredential\n",
    "import requests\n",
    "import logging\n",
    "\n",
    "#from omnia_timeseries.helpers import retry\n",
    "#from omnia_timeseries.models import TimeseriesRequestFailedException\n",
    "from importlib import metadata\n",
    "from opentelemetry.instrumentation.requests import RequestsInstrumentor\n",
    "import platform"
   ]
  },
  {
   "cell_type": "code",
   "execution_count": 3,
   "metadata": {},
   "outputs": [
    {
     "ename": "KeyError",
     "evalue": "'AZURE_CLIENT_ID_AE_NON_PRODUCTION'",
     "output_type": "error",
     "traceback": [
      "\u001b[1;31m---------------------------------------------------------------------------\u001b[0m",
      "\u001b[1;31mKeyError\u001b[0m                                  Traceback (most recent call last)",
      "\u001b[1;32mc:\\Users\\tlw\\source\\omnia-ae-python\\examples\\example_notebook.ipynb Cell 3\u001b[0m line \u001b[0;36m5\n\u001b[0;32m      <a href='vscode-notebook-cell:/c%3A/Users/tlw/source/omnia-ae-python/examples/example_notebook.ipynb#W2sZmlsZQ%3D%3D?line=0'>1</a>\u001b[0m \u001b[39mfrom\u001b[39;00m \u001b[39mazure\u001b[39;00m\u001b[39m.\u001b[39;00m\u001b[39midentity\u001b[39;00m \u001b[39mimport\u001b[39;00m ClientSecretCredential\n\u001b[0;32m      <a href='vscode-notebook-cell:/c%3A/Users/tlw/source/omnia-ae-python/examples/example_notebook.ipynb#W2sZmlsZQ%3D%3D?line=1'>2</a>\u001b[0m \u001b[39mimport\u001b[39;00m \u001b[39mos\u001b[39;00m\n\u001b[0;32m      <a href='vscode-notebook-cell:/c%3A/Users/tlw/source/omnia-ae-python/examples/example_notebook.ipynb#W2sZmlsZQ%3D%3D?line=2'>3</a>\u001b[0m credential \u001b[39m=\u001b[39m ClientSecretCredential(\n\u001b[0;32m      <a href='vscode-notebook-cell:/c%3A/Users/tlw/source/omnia-ae-python/examples/example_notebook.ipynb#W2sZmlsZQ%3D%3D?line=3'>4</a>\u001b[0m     tenant_id\u001b[39m=\u001b[39mos\u001b[39m.\u001b[39menviron[\u001b[39m'\u001b[39m\u001b[39mAZURE_TENANT_ID\u001b[39m\u001b[39m'\u001b[39m],\n\u001b[1;32m----> <a href='vscode-notebook-cell:/c%3A/Users/tlw/source/omnia-ae-python/examples/example_notebook.ipynb#W2sZmlsZQ%3D%3D?line=4'>5</a>\u001b[0m     client_id\u001b[39m=\u001b[39mos\u001b[39m.\u001b[39;49menviron[\u001b[39m'\u001b[39;49m\u001b[39mAZURE_CLIENT_ID_AE_NON_PRODUCTION\u001b[39;49m\u001b[39m'\u001b[39;49m],\n\u001b[0;32m      <a href='vscode-notebook-cell:/c%3A/Users/tlw/source/omnia-ae-python/examples/example_notebook.ipynb#W2sZmlsZQ%3D%3D?line=5'>6</a>\u001b[0m     client_secret\u001b[39m=\u001b[39mos\u001b[39m.\u001b[39menviron[\u001b[39m'\u001b[39m\u001b[39mAZURE_CLIENT_SECRET_AE_NON_PRODUCTION\u001b[39m\u001b[39m'\u001b[39m]\n\u001b[0;32m      <a href='vscode-notebook-cell:/c%3A/Users/tlw/source/omnia-ae-python/examples/example_notebook.ipynb#W2sZmlsZQ%3D%3D?line=6'>7</a>\u001b[0m )\n",
      "File \u001b[1;32mc:\\Program Files\\Python310\\lib\\os.py:680\u001b[0m, in \u001b[0;36m_Environ.__getitem__\u001b[1;34m(self, key)\u001b[0m\n\u001b[0;32m    677\u001b[0m     value \u001b[39m=\u001b[39m \u001b[39mself\u001b[39m\u001b[39m.\u001b[39m_data[\u001b[39mself\u001b[39m\u001b[39m.\u001b[39mencodekey(key)]\n\u001b[0;32m    678\u001b[0m \u001b[39mexcept\u001b[39;00m \u001b[39mKeyError\u001b[39;00m:\n\u001b[0;32m    679\u001b[0m     \u001b[39m# raise KeyError with the original key value\u001b[39;00m\n\u001b[1;32m--> 680\u001b[0m     \u001b[39mraise\u001b[39;00m \u001b[39mKeyError\u001b[39;00m(key) \u001b[39mfrom\u001b[39;00m \u001b[39mNone\u001b[39;00m\n\u001b[0;32m    681\u001b[0m \u001b[39mreturn\u001b[39;00m \u001b[39mself\u001b[39m\u001b[39m.\u001b[39mdecodevalue(value)\n",
      "\u001b[1;31mKeyError\u001b[0m: 'AZURE_CLIENT_ID_AE_NON_PRODUCTION'"
     ]
    }
   ],
   "source": [
    "from azure.identity import ClientSecretCredential\n",
    "import os\n",
    "credential = ClientSecretCredential(\n",
    "    tenant_id=os.environ['AZURE_TENANT_ID'],\n",
    "    client_id=os.environ['AZURE_CLIENT_ID_AE_NON_PRODUCTION'],\n",
    "    client_secret=os.environ['AZURE_CLIENT_SECRET_AE_NON_PRODUCTION']\n",
    ")"
   ]
  },
  {
   "cell_type": "code",
   "execution_count": 3,
   "metadata": {},
   "outputs": [],
   "source": [
    "base_url = \"https://api-dev.gateway.equinor.com/iiot/ae/v1\""
   ]
  },
  {
   "cell_type": "code",
   "execution_count": 14,
   "metadata": {},
   "outputs": [],
   "source": [
    "ContentType = Literal[\"application/json\",\n",
    "                      \"application/protobuf\", \"application/x-google-protobuf\"]\n",
    "\n",
    "RequestType = Literal['get']\n",
    "def _request(\n",
    "    request_type: RequestType,\n",
    "    url: str,\n",
    "    headers: Dict[str, Any],\n",
    "    payload: Optional[Union[TypedDict, dict, list]] = None,\n",
    "    params: Optional[Dict[str, Any]] = None\n",
    ") -> Union[Dict[str, Any], bytes]:\n",
    "\n",
    "    response = requests.request(\n",
    "        request_type, url, headers=headers, json=payload, params=params)\n",
    "    #if not response.ok:\n",
    "    #    raise TimeseriesRequestFailedException(response)\n",
    "    if not \"Accept\" in headers or headers[\"Accept\"] == \"application/json\":\n",
    "        return response.json()\n",
    "    else:\n",
    "        return response.content\n",
    "\n",
    "class HttpClient:\n",
    "    def __init__(self, azure_credential: MsalCredential, resource_id: str):\n",
    "        self._azure_credential = azure_credential\n",
    "        self._resource_id = resource_id\n",
    "\n",
    "    def request(\n",
    "        self,\n",
    "        request_type: RequestType,\n",
    "        url: str,\n",
    "        accept: ContentType = \"application/json\",\n",
    "        payload: Optional[Union[TypedDict, dict, list]] = None,\n",
    "        params: Optional[Dict[str, Any]] = None\n",
    "    ) -> Any:\n",
    "\n",
    "        access_token = self._azure_credential.get_token(\n",
    "            f'{self._resource_id}/.default')  # handles caching and refreshing internally\n",
    "        headers = {\n",
    "            'Authorization': f'Bearer {access_token.token}',\n",
    "            'Content-Type': 'application/json',\n",
    "            'Accept': accept,\n",
    "            ##'User-Agent': f'Omnia AE SDK/{version} {system_version_string}'\n",
    "        }\n",
    "        return _request(request_type=request_type, url=url, headers=headers, payload=payload, params=params)\n"
   ]
  },
  {
   "cell_type": "code",
   "execution_count": 11,
   "metadata": {},
   "outputs": [],
   "source": [
    "resource_id=\"32f\""
   ]
  },
  {
   "cell_type": "code",
   "execution_count": 4,
   "metadata": {},
   "outputs": [],
   "source": [
    "#check again on monday"
   ]
  },
  {
   "cell_type": "code",
   "execution_count": 16,
   "metadata": {},
   "outputs": [
    {
     "name": "stdout",
     "output_type": "stream",
     "text": [
      "https://api-dev.gateway.equinor.com/iiot/ae/v1\n"
     ]
    }
   ],
   "source": [
    "print(base_url)"
   ]
  },
  {
   "cell_type": "code",
   "execution_count": 24,
   "metadata": {},
   "outputs": [
    {
     "name": "stderr",
     "output_type": "stream",
     "text": [
      "ClientSecretCredential.get_token failed: Authentication failed: AADSTS7000215: Invalid client secret provided. Ensure the secret being sent in the request is the client secret value, not the client secret ID, for a secret added to app '657b2767-ee47-47ff-b745-af501ea053cb'. Trace ID: 49dd7a64-d026-40a6-ba9f-707aac60ba00 Correlation ID: d2efbacd-e893-4039-9655-e19646ea6bc7 Timestamp: 2023-11-10 15:03:16Z\n"
     ]
    },
    {
     "ename": "ClientAuthenticationError",
     "evalue": "Authentication failed: AADSTS7000215: Invalid client secret provided. Ensure the secret being sent in the request is the client secret value, not the client secret ID, for a secret added to app '657b2767-ee47-47ff-b745-af501ea053cb'. Trace ID: 49dd7a64-d026-40a6-ba9f-707aac60ba00 Correlation ID: d2efbacd-e893-4039-9655-e19646ea6bc7 Timestamp: 2023-11-10 15:03:16Z",
     "output_type": "error",
     "traceback": [
      "\u001b[1;31m---------------------------------------------------------------------------\u001b[0m",
      "\u001b[1;31mClientAuthenticationError\u001b[0m                 Traceback (most recent call last)",
      "\u001b[1;32mc:\\Users\\tlw\\source\\omnia-ae-python\\examples\\example_notebook.ipynb Cell 8\u001b[0m line \u001b[0;36m1\n\u001b[1;32m----> <a href='vscode-notebook-cell:/c%3A/Users/tlw/source/omnia-ae-python/examples/example_notebook.ipynb#X12sZmlsZQ%3D%3D?line=0'>1</a>\u001b[0m access_token \u001b[39m=\u001b[39m credential\u001b[39m.\u001b[39;49mget_token(\n\u001b[0;32m      <a href='vscode-notebook-cell:/c%3A/Users/tlw/source/omnia-ae-python/examples/example_notebook.ipynb#X12sZmlsZQ%3D%3D?line=1'>2</a>\u001b[0m     \u001b[39mf\u001b[39;49m\u001b[39m'\u001b[39;49m\u001b[39m{\u001b[39;49;00mresource_id\u001b[39m}\u001b[39;49;00m\u001b[39m/.default\u001b[39;49m\u001b[39m'\u001b[39;49m)  \u001b[39m# handles caching and refreshing internally\u001b[39;00m\n\u001b[0;32m      <a href='vscode-notebook-cell:/c%3A/Users/tlw/source/omnia-ae-python/examples/example_notebook.ipynb#X12sZmlsZQ%3D%3D?line=2'>3</a>\u001b[0m headers \u001b[39m=\u001b[39m {\n\u001b[0;32m      <a href='vscode-notebook-cell:/c%3A/Users/tlw/source/omnia-ae-python/examples/example_notebook.ipynb#X12sZmlsZQ%3D%3D?line=3'>4</a>\u001b[0m     \u001b[39m'\u001b[39m\u001b[39mAuthorization\u001b[39m\u001b[39m'\u001b[39m: \u001b[39mf\u001b[39m\u001b[39m'\u001b[39m\u001b[39mBearer \u001b[39m\u001b[39m{\u001b[39;00maccess_token\u001b[39m.\u001b[39mtoken\u001b[39m}\u001b[39;00m\u001b[39m'\u001b[39m,\n\u001b[0;32m      <a href='vscode-notebook-cell:/c%3A/Users/tlw/source/omnia-ae-python/examples/example_notebook.ipynb#X12sZmlsZQ%3D%3D?line=4'>5</a>\u001b[0m     \u001b[39m'\u001b[39m\u001b[39mContent-Type\u001b[39m\u001b[39m'\u001b[39m: \u001b[39m'\u001b[39m\u001b[39mapplication/json\u001b[39m\u001b[39m'\u001b[39m,\n\u001b[0;32m      <a href='vscode-notebook-cell:/c%3A/Users/tlw/source/omnia-ae-python/examples/example_notebook.ipynb#X12sZmlsZQ%3D%3D?line=5'>6</a>\u001b[0m     \u001b[39m'\u001b[39m\u001b[39mAccept\u001b[39m\u001b[39m'\u001b[39m: \u001b[39m'\u001b[39m\u001b[39mapplication/json\u001b[39m\u001b[39m'\u001b[39m,\n\u001b[0;32m      <a href='vscode-notebook-cell:/c%3A/Users/tlw/source/omnia-ae-python/examples/example_notebook.ipynb#X12sZmlsZQ%3D%3D?line=6'>7</a>\u001b[0m     \u001b[39m##'User-Agent': f'Omnia AE SDK/{version} {system_version_string}'\u001b[39;00m\n\u001b[0;32m      <a href='vscode-notebook-cell:/c%3A/Users/tlw/source/omnia-ae-python/examples/example_notebook.ipynb#X12sZmlsZQ%3D%3D?line=7'>8</a>\u001b[0m         }\n",
      "File \u001b[1;32m~\\AppData\\Roaming\\Python\\Python310\\site-packages\\azure\\identity\\_internal\\get_token_mixin.py:86\u001b[0m, in \u001b[0;36mGetTokenMixin.get_token\u001b[1;34m(self, claims, tenant_id, *scopes, **kwargs)\u001b[0m\n\u001b[0;32m     84\u001b[0m \u001b[39mif\u001b[39;00m \u001b[39mnot\u001b[39;00m token:\n\u001b[0;32m     85\u001b[0m     \u001b[39mself\u001b[39m\u001b[39m.\u001b[39m_last_request_time \u001b[39m=\u001b[39m \u001b[39mint\u001b[39m(time\u001b[39m.\u001b[39mtime())\n\u001b[1;32m---> 86\u001b[0m     token \u001b[39m=\u001b[39m \u001b[39mself\u001b[39m\u001b[39m.\u001b[39m_request_token(\u001b[39m*\u001b[39mscopes, claims\u001b[39m=\u001b[39mclaims, tenant_id\u001b[39m=\u001b[39mtenant_id, \u001b[39m*\u001b[39m\u001b[39m*\u001b[39mkwargs)\n\u001b[0;32m     87\u001b[0m \u001b[39melif\u001b[39;00m \u001b[39mself\u001b[39m\u001b[39m.\u001b[39m_should_refresh(token):\n\u001b[0;32m     88\u001b[0m     \u001b[39mtry\u001b[39;00m:\n",
      "File \u001b[1;32m~\\AppData\\Roaming\\Python\\Python310\\site-packages\\azure\\identity\\_internal\\decorators.py:79\u001b[0m, in \u001b[0;36mwrap_exceptions.<locals>.wrapper\u001b[1;34m(*args, **kwargs)\u001b[0m\n\u001b[0;32m     76\u001b[0m \u001b[39m@functools\u001b[39m\u001b[39m.\u001b[39mwraps(fn)\n\u001b[0;32m     77\u001b[0m \u001b[39mdef\u001b[39;00m \u001b[39mwrapper\u001b[39m(\u001b[39m*\u001b[39margs, \u001b[39m*\u001b[39m\u001b[39m*\u001b[39mkwargs):\n\u001b[0;32m     78\u001b[0m     \u001b[39mtry\u001b[39;00m:\n\u001b[1;32m---> 79\u001b[0m         \u001b[39mreturn\u001b[39;00m fn(\u001b[39m*\u001b[39margs, \u001b[39m*\u001b[39m\u001b[39m*\u001b[39mkwargs)\n\u001b[0;32m     80\u001b[0m     \u001b[39mexcept\u001b[39;00m ClientAuthenticationError:\n\u001b[0;32m     81\u001b[0m         \u001b[39mraise\u001b[39;00m\n",
      "File \u001b[1;32m~\\AppData\\Roaming\\Python\\Python310\\site-packages\\azure\\identity\\_internal\\client_credential_base.py:43\u001b[0m, in \u001b[0;36mClientCredentialBase._request_token\u001b[1;34m(self, *scopes, **kwargs)\u001b[0m\n\u001b[0;32m     41\u001b[0m \u001b[39mif\u001b[39;00m \u001b[39m\"\u001b[39m\u001b[39maccess_token\u001b[39m\u001b[39m\"\u001b[39m \u001b[39mnot\u001b[39;00m \u001b[39min\u001b[39;00m result:\n\u001b[0;32m     42\u001b[0m     message \u001b[39m=\u001b[39m \u001b[39m\"\u001b[39m\u001b[39mAuthentication failed: \u001b[39m\u001b[39m{}\u001b[39;00m\u001b[39m\"\u001b[39m\u001b[39m.\u001b[39mformat(result\u001b[39m.\u001b[39mget(\u001b[39m\"\u001b[39m\u001b[39merror_description\u001b[39m\u001b[39m\"\u001b[39m) \u001b[39mor\u001b[39;00m result\u001b[39m.\u001b[39mget(\u001b[39m\"\u001b[39m\u001b[39merror\u001b[39m\u001b[39m\"\u001b[39m))\n\u001b[1;32m---> 43\u001b[0m     \u001b[39mraise\u001b[39;00m ClientAuthenticationError(message\u001b[39m=\u001b[39mmessage)\n\u001b[0;32m     45\u001b[0m \u001b[39mreturn\u001b[39;00m AccessToken(result[\u001b[39m\"\u001b[39m\u001b[39maccess_token\u001b[39m\u001b[39m\"\u001b[39m], request_time \u001b[39m+\u001b[39m \u001b[39mint\u001b[39m(result[\u001b[39m\"\u001b[39m\u001b[39mexpires_in\u001b[39m\u001b[39m\"\u001b[39m]))\n",
      "\u001b[1;31mClientAuthenticationError\u001b[0m: Authentication failed: AADSTS7000215: Invalid client secret provided. Ensure the secret being sent in the request is the client secret value, not the client secret ID, for a secret added to app '657b2767-ee47-47ff-b745-af501ea053cb'. Trace ID: 49dd7a64-d026-40a6-ba9f-707aac60ba00 Correlation ID: d2efbacd-e893-4039-9655-e19646ea6bc7 Timestamp: 2023-11-10 15:03:16Z"
     ]
    }
   ],
   "source": [
    "access_token = credential.get_token(\n",
    "    f'{resource_id}/.default')  # handles caching and refreshing internally\n",
    "headers = {\n",
    "    'Authorization': f'Bearer {access_token.token}',\n",
    "    'Content-Type': 'application/json',\n",
    "    'Accept': 'application/json',\n",
    "    ##'User-Agent': f'Omnia AE SDK/{version} {system_version_string}'\n",
    "        }"
   ]
  },
  {
   "cell_type": "code",
   "execution_count": 19,
   "metadata": {},
   "outputs": [
    {
     "data": {
      "text/plain": [
       "AccessToken(token='eyJ0eXAiOiJKV1QiLCJhbGciOiJSUzI1NiIsIng1dCI6IjlHbW55RlBraGMzaE91UjIybXZTdmduTG83WSIsImtpZCI6IjlHbW55RlBraGMzaE91UjIybXZTdmduTG83WSJ9.eyJhdWQiOiIzMmYyYTkwOS04YTk4LTRlYjgtYjIyZC0xMjA4ZDkzNTBjYjAiLCJpc3MiOiJodHRwczovL3N0cy53aW5kb3dzLm5ldC8zYWE0YTIzNS1iNmUyLTQ4ZDUtOTE5NS03ZmNmMDViNDU5YjAvIiwiaWF0IjoxNjk5NjI3Mjg3LCJuYmYiOjE2OTk2MjcyODcsImV4cCI6MTY5OTYzMTE4NywiYWlvIjoiRTJWZ1lHaDgxSnBTVytiKzNGVjZyOFdxQTh4YkFBPT0iLCJhcHBpZCI6ImI1ZTc5YjBkLWZkZGItNGY2NS04ZDEwLTk5ODYzODU4Nzc5ZiIsImFwcGlkYWNyIjoiMSIsImdyb3VwcyI6WyJjNDNlNmQyOC0xZTM5LTQ1YWMtOTQ3YS03MDFjNWI5NzlhMDYiLCI4MDljYjA1YS1jNWVhLTRmZWItYjdmYi1kZmExMjIxMjViNzYiLCJkYjNhZTljYy1lYjAwLTRhMzctOWIxMi1hMWZhY2VmYTgyOTEiXSwiaWRwIjoiaHR0cHM6Ly9zdHMud2luZG93cy5uZXQvM2FhNGEyMzUtYjZlMi00OGQ1LTkxOTUtN2ZjZjA1YjQ1OWIwLyIsIm9pZCI6ImIyY2ZhYjg0LTMxMDItNDQ3MS1iMmI1LTkyZTJmYjYxNWExNCIsInJoIjoiMC5BUUlBTmFLa091SzIxVWlSbFhfUEJiUlpzQW1wOGpLWWlyaE9zaTBTQ05rMURMQUNBQUEuIiwicm9sZXMiOlsiVGltZXNlcmllcy5BZG1pbiJdLCJzdWIiOiJiMmNmYWI4NC0zMTAyLTQ0NzEtYjJiNS05MmUyZmI2MTVhMTQiLCJ0aWQiOiIzYWE0YTIzNS1iNmUyLTQ4ZDUtOTE5NS03ZmNmMDViNDU5YjAiLCJ1dGkiOiI1ajBQekVycWwwNlplYmszQkhrZkFBIiwidmVyIjoiMS4wIn0.R-MrGZKCy_fC7QFJ2zLcuUL4T4Iah3en74g3BugXj2zi1s33JDlNTphEVo7MbyyRmPXB8gc_edLn0hjeUDv7XX5zIOEq67gix1HDqI3vgH7BuYAAUFM7YJn7LoG9vLO8u-Ta0T9BRVFgH5y0MDfMXy_siKjvibocEHpdPk6X5VhIA3jOTLWgUjLNCcO4qOo_O4XF5TA2LXoxmspw3rK67ybUbNWGE-JWOqXExjVwgesd-Ck8PDGzPrahwwJyO2jhivA-dsMm9w87UDgs_-nCefYkb7XEPEEyRZG4R43p31X8bHDva5LrrjT-DqbZueyZLbj0lL5Knk9XFQ9dm-MVEg', expires_on=1699631186)"
      ]
     },
     "execution_count": 19,
     "metadata": {},
     "output_type": "execute_result"
    }
   ],
   "source": [
    "access_token"
   ]
  },
  {
   "cell_type": "code",
   "execution_count": 18,
   "metadata": {},
   "outputs": [
    {
     "data": {
      "text/plain": [
       "{'statusCode': 401,\n",
       " 'message': 'Unauthorized. Access token is missing or invalid.'}"
      ]
     },
     "execution_count": 18,
     "metadata": {},
     "output_type": "execute_result"
    }
   ],
   "source": [
    "_request(request_type='get', url=base_url+'/sources', headers=headers, payload=None, params=None)"
   ]
  },
  {
   "cell_type": "code",
   "execution_count": null,
   "metadata": {},
   "outputs": [],
   "source": []
  },
  {
   "cell_type": "code",
   "execution_count": null,
   "metadata": {},
   "outputs": [],
   "source": [
    "_http_client = HttpClient(\n",
    "            azure_credential=azure_credential, resource_id=environment.resource_id)"
   ]
  }
 ],
 "metadata": {
  "kernelspec": {
   "display_name": "Python 3",
   "language": "python",
   "name": "python3"
  },
  "language_info": {
   "codemirror_mode": {
    "name": "ipython",
    "version": 3
   },
   "file_extension": ".py",
   "mimetype": "text/x-python",
   "name": "python",
   "nbconvert_exporter": "python",
   "pygments_lexer": "ipython3",
   "version": "3.10.11"
  },
  "orig_nbformat": 4
 },
 "nbformat": 4,
 "nbformat_minor": 2
}
